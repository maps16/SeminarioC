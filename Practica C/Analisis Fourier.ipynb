{
 "metadata": {
  "name": "",
  "signature": "sha256:9e3cac508a443d366204c16b8034b1e9e85f3435a9cb64593dedcdb774ce0311"
 },
 "nbformat": 3,
 "nbformat_minor": 0,
 "worksheets": [
  {
   "cells": [
    {
     "cell_type": "code",
     "collapsed": false,
     "input": [
      "import numpy as np\n",
      "import scipy\n",
      "import numpy.fft as ft"
     ],
     "language": "python",
     "metadata": {},
     "outputs": [],
     "prompt_number": 2
    },
    {
     "cell_type": "code",
     "collapsed": false,
     "input": [],
     "language": "python",
     "metadata": {},
     "outputs": []
    }
   ],
   "metadata": {}
  }
 ]
}