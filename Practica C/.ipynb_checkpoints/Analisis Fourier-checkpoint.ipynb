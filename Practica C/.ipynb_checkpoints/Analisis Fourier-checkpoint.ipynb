{
 "metadata": {
  "name": "",
  "signature": "sha256:909eff64a0c61ca676258462baa26525b48aa7c4af03ba30f6e313b3282ee724"
 },
 "nbformat": 3,
 "nbformat_minor": 0,
 "worksheets": []
}