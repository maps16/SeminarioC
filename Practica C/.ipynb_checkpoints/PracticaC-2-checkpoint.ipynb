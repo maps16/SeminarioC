{
 "metadata": {
  "name": "",
  "signature": "sha256:c74755bcf30fe3242a90d280a1dcaffafa69b666715ad7d15485572582d62e91"
 },
 "nbformat": 3,
 "nbformat_minor": 0,
 "worksheets": [
  {
   "cells": [
    {
     "cell_type": "code",
     "collapsed": false,
     "input": [
      "import pandas as pd\n",
      "import numpy as np\n",
      "import matplotlib as plt\n",
      "import matplotlib.pyplot as mplt\n",
      "import scipy\n",
      "from datetime import datetime\n",
      "%matplotlib inline"
     ],
     "language": "python",
     "metadata": {},
     "outputs": [],
     "prompt_number": 1
    },
    {
     "cell_type": "code",
     "collapsed": false,
     "input": [
      "Data = pd.read_csv(\"sargento_mareas.csv\")\n",
      "Data.head(10)"
     ],
     "language": "python",
     "metadata": {},
     "outputs": [
      {
       "html": [
        "<div style=\"max-height:1000px;max-width:1500px;overflow:auto;\">\n",
        "<table border=\"1\" class=\"dataframe\">\n",
        "  <thead>\n",
        "    <tr style=\"text-align: right;\">\n",
        "      <th></th>\n",
        "      <th>Date </th>\n",
        "      <th>Time</th>\n",
        "      <th>Water Leve meters</th>\n",
        "    </tr>\n",
        "  </thead>\n",
        "  <tbody>\n",
        "    <tr>\n",
        "      <th>0</th>\n",
        "      <td> 10/13/2013</td>\n",
        "      <td> 15:30</td>\n",
        "      <td>-0.097</td>\n",
        "    </tr>\n",
        "    <tr>\n",
        "      <th>1</th>\n",
        "      <td> 10/13/2013</td>\n",
        "      <td> 16:00</td>\n",
        "      <td>-0.104</td>\n",
        "    </tr>\n",
        "    <tr>\n",
        "      <th>2</th>\n",
        "      <td> 10/13/2013</td>\n",
        "      <td> 16:30</td>\n",
        "      <td>-0.109</td>\n",
        "    </tr>\n",
        "    <tr>\n",
        "      <th>3</th>\n",
        "      <td> 10/13/2013</td>\n",
        "      <td> 17:00</td>\n",
        "      <td>-0.112</td>\n",
        "    </tr>\n",
        "    <tr>\n",
        "      <th>4</th>\n",
        "      <td> 10/13/2013</td>\n",
        "      <td> 17:30</td>\n",
        "      <td>-0.117</td>\n",
        "    </tr>\n",
        "    <tr>\n",
        "      <th>5</th>\n",
        "      <td> 10/13/2013</td>\n",
        "      <td> 18:00</td>\n",
        "      <td>-0.121</td>\n",
        "    </tr>\n",
        "    <tr>\n",
        "      <th>6</th>\n",
        "      <td> 10/13/2013</td>\n",
        "      <td> 18:30</td>\n",
        "      <td>-0.123</td>\n",
        "    </tr>\n",
        "    <tr>\n",
        "      <th>7</th>\n",
        "      <td> 10/13/2013</td>\n",
        "      <td> 19:00</td>\n",
        "      <td>-0.127</td>\n",
        "    </tr>\n",
        "    <tr>\n",
        "      <th>8</th>\n",
        "      <td> 10/13/2013</td>\n",
        "      <td> 19:30</td>\n",
        "      <td>-0.128</td>\n",
        "    </tr>\n",
        "    <tr>\n",
        "      <th>9</th>\n",
        "      <td> 10/13/2013</td>\n",
        "      <td> 20:00</td>\n",
        "      <td>-0.136</td>\n",
        "    </tr>\n",
        "  </tbody>\n",
        "</table>\n",
        "</div>"
       ],
       "metadata": {},
       "output_type": "pyout",
       "prompt_number": 2,
       "text": [
        "        Date    Time  Water Leve meters\n",
        "0  10/13/2013  15:30             -0.097\n",
        "1  10/13/2013  16:00             -0.104\n",
        "2  10/13/2013  16:30             -0.109\n",
        "3  10/13/2013  17:00             -0.112\n",
        "4  10/13/2013  17:30             -0.117\n",
        "5  10/13/2013  18:00             -0.121\n",
        "6  10/13/2013  18:30             -0.123\n",
        "7  10/13/2013  19:00             -0.127\n",
        "8  10/13/2013  19:30             -0.128\n",
        "9  10/13/2013  20:00             -0.136"
       ]
      }
     ],
     "prompt_number": 2
    },
    {
     "cell_type": "code",
     "collapsed": false,
     "input": [
      "index=pd.date_range('2011-9-1 00:00:03', '2012-09-01  00:00:03', freq='10min')"
     ],
     "language": "python",
     "metadata": {},
     "outputs": [],
     "prompt_number": 4
    }
   ],
   "metadata": {}
  }
 ]
}