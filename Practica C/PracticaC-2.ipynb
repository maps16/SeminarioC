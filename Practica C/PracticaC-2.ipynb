{
 "metadata": {
  "name": "",
  "signature": "sha256:967b72e81b2f0553a2721655fb3af6b10a5a4e05f9508f2e0b917b4e9a327f42"
 },
 "nbformat": 3,
 "nbformat_minor": 0,
 "worksheets": [
  {
   "cells": [
    {
     "cell_type": "code",
     "collapsed": false,
     "input": [
      "import pandas as pd\n",
      "import numpy as np\n",
      "import matplotlib as plt\n",
      "import matplotlib.pyplot as mplt\n",
      "import scipy\n",
      "from datetime import datetime\n",
      "%matplotlib inline"
     ],
     "language": "python",
     "metadata": {},
     "outputs": [],
     "prompt_number": 1
    },
    {
     "cell_type": "code",
     "collapsed": false,
     "input": [
      "Data = pd.read_csv(\"sargento_mareas.csv\")\n",
      "Data.head(10)"
     ],
     "language": "python",
     "metadata": {},
     "outputs": [
      {
       "html": [
        "<div style=\"max-height:1000px;max-width:1500px;overflow:auto;\">\n",
        "<table border=\"1\" class=\"dataframe\">\n",
        "  <thead>\n",
        "    <tr style=\"text-align: right;\">\n",
        "      <th></th>\n",
        "      <th>Date </th>\n",
        "      <th>Time</th>\n",
        "      <th>Water Leve meters</th>\n",
        "    </tr>\n",
        "  </thead>\n",
        "  <tbody>\n",
        "    <tr>\n",
        "      <th>0</th>\n",
        "      <td> 10/13/2013</td>\n",
        "      <td> 15:30</td>\n",
        "      <td>-0.097</td>\n",
        "    </tr>\n",
        "    <tr>\n",
        "      <th>1</th>\n",
        "      <td> 10/13/2013</td>\n",
        "      <td> 16:00</td>\n",
        "      <td>-0.104</td>\n",
        "    </tr>\n",
        "    <tr>\n",
        "      <th>2</th>\n",
        "      <td> 10/13/2013</td>\n",
        "      <td> 16:30</td>\n",
        "      <td>-0.109</td>\n",
        "    </tr>\n",
        "    <tr>\n",
        "      <th>3</th>\n",
        "      <td> 10/13/2013</td>\n",
        "      <td> 17:00</td>\n",
        "      <td>-0.112</td>\n",
        "    </tr>\n",
        "    <tr>\n",
        "      <th>4</th>\n",
        "      <td> 10/13/2013</td>\n",
        "      <td> 17:30</td>\n",
        "      <td>-0.117</td>\n",
        "    </tr>\n",
        "    <tr>\n",
        "      <th>5</th>\n",
        "      <td> 10/13/2013</td>\n",
        "      <td> 18:00</td>\n",
        "      <td>-0.121</td>\n",
        "    </tr>\n",
        "    <tr>\n",
        "      <th>6</th>\n",
        "      <td> 10/13/2013</td>\n",
        "      <td> 18:30</td>\n",
        "      <td>-0.123</td>\n",
        "    </tr>\n",
        "    <tr>\n",
        "      <th>7</th>\n",
        "      <td> 10/13/2013</td>\n",
        "      <td> 19:00</td>\n",
        "      <td>-0.127</td>\n",
        "    </tr>\n",
        "    <tr>\n",
        "      <th>8</th>\n",
        "      <td> 10/13/2013</td>\n",
        "      <td> 19:30</td>\n",
        "      <td>-0.128</td>\n",
        "    </tr>\n",
        "    <tr>\n",
        "      <th>9</th>\n",
        "      <td> 10/13/2013</td>\n",
        "      <td> 20:00</td>\n",
        "      <td>-0.136</td>\n",
        "    </tr>\n",
        "  </tbody>\n",
        "</table>\n",
        "</div>"
       ],
       "metadata": {},
       "output_type": "pyout",
       "prompt_number": 2,
       "text": [
        "        Date    Time  Water Leve meters\n",
        "0  10/13/2013  15:30             -0.097\n",
        "1  10/13/2013  16:00             -0.104\n",
        "2  10/13/2013  16:30             -0.109\n",
        "3  10/13/2013  17:00             -0.112\n",
        "4  10/13/2013  17:30             -0.117\n",
        "5  10/13/2013  18:00             -0.121\n",
        "6  10/13/2013  18:30             -0.123\n",
        "7  10/13/2013  19:00             -0.127\n",
        "8  10/13/2013  19:30             -0.128\n",
        "9  10/13/2013  20:00             -0.136"
       ]
      }
     ],
     "prompt_number": 2
    },
    {
     "cell_type": "code",
     "collapsed": false,
     "input": [
      "index=pd.date_range('2013-10-13 15:30:00', '2014-03-22  12:00:00', freq='30min')\n",
      "index"
     ],
     "language": "python",
     "metadata": {},
     "outputs": [
      {
       "metadata": {},
       "output_type": "pyout",
       "prompt_number": 3,
       "text": [
        "<class 'pandas.tseries.index.DatetimeIndex'>\n",
        "[2013-10-13 15:30:00, ..., 2014-03-22 12:00:00]\n",
        "Length: 7674, Freq: 30T, Timezone: None"
       ]
      }
     ],
     "prompt_number": 3
    },
    {
     "cell_type": "code",
     "collapsed": false,
     "input": [
      "Data[\"Fecha\"]= index"
     ],
     "language": "python",
     "metadata": {},
     "outputs": [],
     "prompt_number": 4
    },
    {
     "cell_type": "code",
     "collapsed": false,
     "input": [
      "Data.head(10)"
     ],
     "language": "python",
     "metadata": {},
     "outputs": [
      {
       "html": [
        "<div style=\"max-height:1000px;max-width:1500px;overflow:auto;\">\n",
        "<table border=\"1\" class=\"dataframe\">\n",
        "  <thead>\n",
        "    <tr style=\"text-align: right;\">\n",
        "      <th></th>\n",
        "      <th>Date </th>\n",
        "      <th>Time</th>\n",
        "      <th>Water Leve meters</th>\n",
        "      <th>Fecha</th>\n",
        "    </tr>\n",
        "  </thead>\n",
        "  <tbody>\n",
        "    <tr>\n",
        "      <th>0</th>\n",
        "      <td> 10/13/2013</td>\n",
        "      <td> 15:30</td>\n",
        "      <td>-0.097</td>\n",
        "      <td>2013-10-13 15:30:00</td>\n",
        "    </tr>\n",
        "    <tr>\n",
        "      <th>1</th>\n",
        "      <td> 10/13/2013</td>\n",
        "      <td> 16:00</td>\n",
        "      <td>-0.104</td>\n",
        "      <td>2013-10-13 16:00:00</td>\n",
        "    </tr>\n",
        "    <tr>\n",
        "      <th>2</th>\n",
        "      <td> 10/13/2013</td>\n",
        "      <td> 16:30</td>\n",
        "      <td>-0.109</td>\n",
        "      <td>2013-10-13 16:30:00</td>\n",
        "    </tr>\n",
        "    <tr>\n",
        "      <th>3</th>\n",
        "      <td> 10/13/2013</td>\n",
        "      <td> 17:00</td>\n",
        "      <td>-0.112</td>\n",
        "      <td>2013-10-13 17:00:00</td>\n",
        "    </tr>\n",
        "    <tr>\n",
        "      <th>4</th>\n",
        "      <td> 10/13/2013</td>\n",
        "      <td> 17:30</td>\n",
        "      <td>-0.117</td>\n",
        "      <td>2013-10-13 17:30:00</td>\n",
        "    </tr>\n",
        "    <tr>\n",
        "      <th>5</th>\n",
        "      <td> 10/13/2013</td>\n",
        "      <td> 18:00</td>\n",
        "      <td>-0.121</td>\n",
        "      <td>2013-10-13 18:00:00</td>\n",
        "    </tr>\n",
        "    <tr>\n",
        "      <th>6</th>\n",
        "      <td> 10/13/2013</td>\n",
        "      <td> 18:30</td>\n",
        "      <td>-0.123</td>\n",
        "      <td>2013-10-13 18:30:00</td>\n",
        "    </tr>\n",
        "    <tr>\n",
        "      <th>7</th>\n",
        "      <td> 10/13/2013</td>\n",
        "      <td> 19:00</td>\n",
        "      <td>-0.127</td>\n",
        "      <td>2013-10-13 19:00:00</td>\n",
        "    </tr>\n",
        "    <tr>\n",
        "      <th>8</th>\n",
        "      <td> 10/13/2013</td>\n",
        "      <td> 19:30</td>\n",
        "      <td>-0.128</td>\n",
        "      <td>2013-10-13 19:30:00</td>\n",
        "    </tr>\n",
        "    <tr>\n",
        "      <th>9</th>\n",
        "      <td> 10/13/2013</td>\n",
        "      <td> 20:00</td>\n",
        "      <td>-0.136</td>\n",
        "      <td>2013-10-13 20:00:00</td>\n",
        "    </tr>\n",
        "  </tbody>\n",
        "</table>\n",
        "</div>"
       ],
       "metadata": {},
       "output_type": "pyout",
       "prompt_number": 5,
       "text": [
        "        Date    Time  Water Leve meters               Fecha\n",
        "0  10/13/2013  15:30             -0.097 2013-10-13 15:30:00\n",
        "1  10/13/2013  16:00             -0.104 2013-10-13 16:00:00\n",
        "2  10/13/2013  16:30             -0.109 2013-10-13 16:30:00\n",
        "3  10/13/2013  17:00             -0.112 2013-10-13 17:00:00\n",
        "4  10/13/2013  17:30             -0.117 2013-10-13 17:30:00\n",
        "5  10/13/2013  18:00             -0.121 2013-10-13 18:00:00\n",
        "6  10/13/2013  18:30             -0.123 2013-10-13 18:30:00\n",
        "7  10/13/2013  19:00             -0.127 2013-10-13 19:00:00\n",
        "8  10/13/2013  19:30             -0.128 2013-10-13 19:30:00\n",
        "9  10/13/2013  20:00             -0.136 2013-10-13 20:00:00"
       ]
      }
     ],
     "prompt_number": 5
    },
    {
     "cell_type": "code",
     "collapsed": false,
     "input": [
      "Data_sm = Data.drop(Data.columns[[0,1]], axis=1)\n",
      "Data_sm.head(10)"
     ],
     "language": "python",
     "metadata": {},
     "outputs": [
      {
       "html": [
        "<div style=\"max-height:1000px;max-width:1500px;overflow:auto;\">\n",
        "<table border=\"1\" class=\"dataframe\">\n",
        "  <thead>\n",
        "    <tr style=\"text-align: right;\">\n",
        "      <th></th>\n",
        "      <th>Water Leve meters</th>\n",
        "      <th>Fecha</th>\n",
        "    </tr>\n",
        "  </thead>\n",
        "  <tbody>\n",
        "    <tr>\n",
        "      <th>0</th>\n",
        "      <td>-0.097</td>\n",
        "      <td>2013-10-13 15:30:00</td>\n",
        "    </tr>\n",
        "    <tr>\n",
        "      <th>1</th>\n",
        "      <td>-0.104</td>\n",
        "      <td>2013-10-13 16:00:00</td>\n",
        "    </tr>\n",
        "    <tr>\n",
        "      <th>2</th>\n",
        "      <td>-0.109</td>\n",
        "      <td>2013-10-13 16:30:00</td>\n",
        "    </tr>\n",
        "    <tr>\n",
        "      <th>3</th>\n",
        "      <td>-0.112</td>\n",
        "      <td>2013-10-13 17:00:00</td>\n",
        "    </tr>\n",
        "    <tr>\n",
        "      <th>4</th>\n",
        "      <td>-0.117</td>\n",
        "      <td>2013-10-13 17:30:00</td>\n",
        "    </tr>\n",
        "    <tr>\n",
        "      <th>5</th>\n",
        "      <td>-0.121</td>\n",
        "      <td>2013-10-13 18:00:00</td>\n",
        "    </tr>\n",
        "    <tr>\n",
        "      <th>6</th>\n",
        "      <td>-0.123</td>\n",
        "      <td>2013-10-13 18:30:00</td>\n",
        "    </tr>\n",
        "    <tr>\n",
        "      <th>7</th>\n",
        "      <td>-0.127</td>\n",
        "      <td>2013-10-13 19:00:00</td>\n",
        "    </tr>\n",
        "    <tr>\n",
        "      <th>8</th>\n",
        "      <td>-0.128</td>\n",
        "      <td>2013-10-13 19:30:00</td>\n",
        "    </tr>\n",
        "    <tr>\n",
        "      <th>9</th>\n",
        "      <td>-0.136</td>\n",
        "      <td>2013-10-13 20:00:00</td>\n",
        "    </tr>\n",
        "  </tbody>\n",
        "</table>\n",
        "</div>"
       ],
       "metadata": {},
       "output_type": "pyout",
       "prompt_number": 6,
       "text": [
        "   Water Leve meters               Fecha\n",
        "0             -0.097 2013-10-13 15:30:00\n",
        "1             -0.104 2013-10-13 16:00:00\n",
        "2             -0.109 2013-10-13 16:30:00\n",
        "3             -0.112 2013-10-13 17:00:00\n",
        "4             -0.117 2013-10-13 17:30:00\n",
        "5             -0.121 2013-10-13 18:00:00\n",
        "6             -0.123 2013-10-13 18:30:00\n",
        "7             -0.127 2013-10-13 19:00:00\n",
        "8             -0.128 2013-10-13 19:30:00\n",
        "9             -0.136 2013-10-13 20:00:00"
       ]
      }
     ],
     "prompt_number": 6
    },
    {
     "cell_type": "code",
     "collapsed": false,
     "input": [
      "cols = Data_sm.columns.tolist()\n",
      "cols = cols[-1:] + cols[:-1]\n",
      "Data_sm = pd.DataFrame(Data_sm[cols])\n",
      "Data_sm.head(10)"
     ],
     "language": "python",
     "metadata": {},
     "outputs": [
      {
       "html": [
        "<div style=\"max-height:1000px;max-width:1500px;overflow:auto;\">\n",
        "<table border=\"1\" class=\"dataframe\">\n",
        "  <thead>\n",
        "    <tr style=\"text-align: right;\">\n",
        "      <th></th>\n",
        "      <th>Fecha</th>\n",
        "      <th>Water Leve meters</th>\n",
        "    </tr>\n",
        "  </thead>\n",
        "  <tbody>\n",
        "    <tr>\n",
        "      <th>0</th>\n",
        "      <td>2013-10-13 15:30:00</td>\n",
        "      <td>-0.097</td>\n",
        "    </tr>\n",
        "    <tr>\n",
        "      <th>1</th>\n",
        "      <td>2013-10-13 16:00:00</td>\n",
        "      <td>-0.104</td>\n",
        "    </tr>\n",
        "    <tr>\n",
        "      <th>2</th>\n",
        "      <td>2013-10-13 16:30:00</td>\n",
        "      <td>-0.109</td>\n",
        "    </tr>\n",
        "    <tr>\n",
        "      <th>3</th>\n",
        "      <td>2013-10-13 17:00:00</td>\n",
        "      <td>-0.112</td>\n",
        "    </tr>\n",
        "    <tr>\n",
        "      <th>4</th>\n",
        "      <td>2013-10-13 17:30:00</td>\n",
        "      <td>-0.117</td>\n",
        "    </tr>\n",
        "    <tr>\n",
        "      <th>5</th>\n",
        "      <td>2013-10-13 18:00:00</td>\n",
        "      <td>-0.121</td>\n",
        "    </tr>\n",
        "    <tr>\n",
        "      <th>6</th>\n",
        "      <td>2013-10-13 18:30:00</td>\n",
        "      <td>-0.123</td>\n",
        "    </tr>\n",
        "    <tr>\n",
        "      <th>7</th>\n",
        "      <td>2013-10-13 19:00:00</td>\n",
        "      <td>-0.127</td>\n",
        "    </tr>\n",
        "    <tr>\n",
        "      <th>8</th>\n",
        "      <td>2013-10-13 19:30:00</td>\n",
        "      <td>-0.128</td>\n",
        "    </tr>\n",
        "    <tr>\n",
        "      <th>9</th>\n",
        "      <td>2013-10-13 20:00:00</td>\n",
        "      <td>-0.136</td>\n",
        "    </tr>\n",
        "  </tbody>\n",
        "</table>\n",
        "</div>"
       ],
       "metadata": {},
       "output_type": "pyout",
       "prompt_number": 7,
       "text": [
        "                Fecha  Water Leve meters\n",
        "0 2013-10-13 15:30:00             -0.097\n",
        "1 2013-10-13 16:00:00             -0.104\n",
        "2 2013-10-13 16:30:00             -0.109\n",
        "3 2013-10-13 17:00:00             -0.112\n",
        "4 2013-10-13 17:30:00             -0.117\n",
        "5 2013-10-13 18:00:00             -0.121\n",
        "6 2013-10-13 18:30:00             -0.123\n",
        "7 2013-10-13 19:00:00             -0.127\n",
        "8 2013-10-13 19:30:00             -0.128\n",
        "9 2013-10-13 20:00:00             -0.136"
       ]
      }
     ],
     "prompt_number": 7
    },
    {
     "cell_type": "code",
     "collapsed": false,
     "input": [
      "Data_sm.plot()"
     ],
     "language": "python",
     "metadata": {},
     "outputs": [
      {
       "metadata": {},
       "output_type": "pyout",
       "prompt_number": 8,
       "text": [
        "<matplotlib.axes._subplots.AxesSubplot at 0x7f482983ce90>"
       ]
      },
      {
       "metadata": {},
       "output_type": "display_data",
       "png": "[encoded data removed]",
       "text": [
        "<matplotlib.figure.Figure at 0x7f48297ea450>"
       ]
      }
     ],
     "prompt_number": 8
    },
    {
     "cell_type": "code",
     "collapsed": false,
     "input": [
      "Data_sm.set_index([\"Fecha\"],inplace=True)\n",
      "Data_sm.head(10)"
     ],
     "language": "python",
     "metadata": {},
     "outputs": [
      {
       "html": [
        "<div style=\"max-height:1000px;max-width:1500px;overflow:auto;\">\n",
        "<table border=\"1\" class=\"dataframe\">\n",
        "  <thead>\n",
        "    <tr style=\"text-align: right;\">\n",
        "      <th></th>\n",
        "      <th>Water Leve meters</th>\n",
        "    </tr>\n",
        "    <tr>\n",
        "      <th>Fecha</th>\n",
        "      <th></th>\n",
        "    </tr>\n",
        "  </thead>\n",
        "  <tbody>\n",
        "    <tr>\n",
        "      <th>2013-10-13 15:30:00</th>\n",
        "      <td>-0.097</td>\n",
        "    </tr>\n",
        "    <tr>\n",
        "      <th>2013-10-13 16:00:00</th>\n",
        "      <td>-0.104</td>\n",
        "    </tr>\n",
        "    <tr>\n",
        "      <th>2013-10-13 16:30:00</th>\n",
        "      <td>-0.109</td>\n",
        "    </tr>\n",
        "    <tr>\n",
        "      <th>2013-10-13 17:00:00</th>\n",
        "      <td>-0.112</td>\n",
        "    </tr>\n",
        "    <tr>\n",
        "      <th>2013-10-13 17:30:00</th>\n",
        "      <td>-0.117</td>\n",
        "    </tr>\n",
        "    <tr>\n",
        "      <th>2013-10-13 18:00:00</th>\n",
        "      <td>-0.121</td>\n",
        "    </tr>\n",
        "    <tr>\n",
        "      <th>2013-10-13 18:30:00</th>\n",
        "      <td>-0.123</td>\n",
        "    </tr>\n",
        "    <tr>\n",
        "      <th>2013-10-13 19:00:00</th>\n",
        "      <td>-0.127</td>\n",
        "    </tr>\n",
        "    <tr>\n",
        "      <th>2013-10-13 19:30:00</th>\n",
        "      <td>-0.128</td>\n",
        "    </tr>\n",
        "    <tr>\n",
        "      <th>2013-10-13 20:00:00</th>\n",
        "      <td>-0.136</td>\n",
        "    </tr>\n",
        "  </tbody>\n",
        "</table>\n",
        "</div>"
       ],
       "metadata": {},
       "output_type": "pyout",
       "prompt_number": 9,
       "text": [
        "                     Water Leve meters\n",
        "Fecha                                 \n",
        "2013-10-13 15:30:00             -0.097\n",
        "2013-10-13 16:00:00             -0.104\n",
        "2013-10-13 16:30:00             -0.109\n",
        "2013-10-13 17:00:00             -0.112\n",
        "2013-10-13 17:30:00             -0.117\n",
        "2013-10-13 18:00:00             -0.121\n",
        "2013-10-13 18:30:00             -0.123\n",
        "2013-10-13 19:00:00             -0.127\n",
        "2013-10-13 19:30:00             -0.128\n",
        "2013-10-13 20:00:00             -0.136"
       ]
      }
     ],
     "prompt_number": 9
    },
    {
     "cell_type": "code",
     "collapsed": false,
     "input": [
      "Data_sm.plot()\n",
      "Data_sm.head(10)"
     ],
     "language": "python",
     "metadata": {},
     "outputs": [
      {
       "html": [
        "<div style=\"max-height:1000px;max-width:1500px;overflow:auto;\">\n",
        "<table border=\"1\" class=\"dataframe\">\n",
        "  <thead>\n",
        "    <tr style=\"text-align: right;\">\n",
        "      <th></th>\n",
        "      <th>Water Leve meters</th>\n",
        "    </tr>\n",
        "    <tr>\n",
        "      <th>Fecha</th>\n",
        "      <th></th>\n",
        "    </tr>\n",
        "  </thead>\n",
        "  <tbody>\n",
        "    <tr>\n",
        "      <th>2013-10-13 15:30:00</th>\n",
        "      <td>-0.097</td>\n",
        "    </tr>\n",
        "    <tr>\n",
        "      <th>2013-10-13 16:00:00</th>\n",
        "      <td>-0.104</td>\n",
        "    </tr>\n",
        "    <tr>\n",
        "      <th>2013-10-13 16:30:00</th>\n",
        "      <td>-0.109</td>\n",
        "    </tr>\n",
        "    <tr>\n",
        "      <th>2013-10-13 17:00:00</th>\n",
        "      <td>-0.112</td>\n",
        "    </tr>\n",
        "    <tr>\n",
        "      <th>2013-10-13 17:30:00</th>\n",
        "      <td>-0.117</td>\n",
        "    </tr>\n",
        "    <tr>\n",
        "      <th>2013-10-13 18:00:00</th>\n",
        "      <td>-0.121</td>\n",
        "    </tr>\n",
        "    <tr>\n",
        "      <th>2013-10-13 18:30:00</th>\n",
        "      <td>-0.123</td>\n",
        "    </tr>\n",
        "    <tr>\n",
        "      <th>2013-10-13 19:00:00</th>\n",
        "      <td>-0.127</td>\n",
        "    </tr>\n",
        "    <tr>\n",
        "      <th>2013-10-13 19:30:00</th>\n",
        "      <td>-0.128</td>\n",
        "    </tr>\n",
        "    <tr>\n",
        "      <th>2013-10-13 20:00:00</th>\n",
        "      <td>-0.136</td>\n",
        "    </tr>\n",
        "  </tbody>\n",
        "</table>\n",
        "</div>"
       ],
       "metadata": {},
       "output_type": "pyout",
       "prompt_number": 10,
       "text": [
        "                     Water Leve meters\n",
        "Fecha                                 \n",
        "2013-10-13 15:30:00             -0.097\n",
        "2013-10-13 16:00:00             -0.104\n",
        "2013-10-13 16:30:00             -0.109\n",
        "2013-10-13 17:00:00             -0.112\n",
        "2013-10-13 17:30:00             -0.117\n",
        "2013-10-13 18:00:00             -0.121\n",
        "2013-10-13 18:30:00             -0.123\n",
        "2013-10-13 19:00:00             -0.127\n",
        "2013-10-13 19:30:00             -0.128\n",
        "2013-10-13 20:00:00             -0.136"
       ]
      },
      {
       "metadata": {},
       "output_type": "display_data",
       "png": "[encoded data removed]",
       "text": [
        "<matplotlib.figure.Figure at 0x7f482983ccd0>"
       ]
      }
     ],
     "prompt_number": 10
    },
    {
     "cell_type": "code",
     "collapsed": false,
     "input": [
      "ax = Data_sm.plot()\n",
      "ax.set_xlim(pd.Timestamp('2013-11-01'), pd.Timestamp('2013-11-30'))\n",
      "mplt.ylabel(\"Altura(mm)\")"
     ],
     "language": "python",
     "metadata": {},
     "outputs": [
      {
       "metadata": {},
       "output_type": "pyout",
       "prompt_number": 11,
       "text": [
        "<matplotlib.text.Text at 0x7f4822d15690>"
       ]
      },
      {
       "metadata": {},
       "output_type": "display_data",
       "png": "[encoded data removed]",
       "text": [
        "<matplotlib.figure.Figure at 0x7f4822ce1850>"
       ]
      }
     ],
     "prompt_number": 11
    },
    {
     "cell_type": "code",
     "collapsed": false,
     "input": [
      "ay = Data_sm.plot()\n",
      "ay.set_xlim(pd.Timestamp('2013-11-01 00:00:00'), pd.Timestamp('2013-11-01 23:59:59'))\n",
      "mplt.ylabel(\"Altura(mm)\")"
     ],
     "language": "python",
     "metadata": {},
     "outputs": [
      {
       "metadata": {},
       "output_type": "pyout",
       "prompt_number": 15,
       "text": [
        "<matplotlib.text.Text at 0x7f48229ac590>"
       ]
      },
      {
       "metadata": {},
       "output_type": "display_data",
       "png": "[encoded data removed]",
       "text": [
        "<matplotlib.figure.Figure at 0x7f4822ab4ad0>"
       ]
      }
     ],
     "prompt_number": 15
    },
    {
     "cell_type": "code",
     "collapsed": false,
     "input": [
      "az = Data_sm.plot()\n",
      "az.set_xlim(pd.Timestamp('2013-11-01 00:00:00'), pd.Timestamp('2013-11-07 23:59:59'))\n",
      "mplt.ylabel(\"Altura(mm)\")"
     ],
     "language": "python",
     "metadata": {},
     "outputs": [
      {
       "metadata": {},
       "output_type": "pyout",
       "prompt_number": 20,
       "text": [
        "<matplotlib.text.Text at 0x7f4822ad5a50>"
       ]
      },
      {
       "metadata": {},
       "output_type": "display_data",
       "png": "[encoded data removed]",
       "text": [
        "<matplotlib.figure.Figure at 0x7f482262a990>"
       ]
      }
     ],
     "prompt_number": 20
    },
    {
     "cell_type": "code",
     "collapsed": false,
     "input": [],
     "language": "python",
     "metadata": {},
     "outputs": []
    }
   ],
   "metadata": {}
  }
 ]
}